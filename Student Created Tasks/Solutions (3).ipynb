{
  "nbformat": 4,
  "nbformat_minor": 0,
  "metadata": {
    "colab": {
      "provenance": []
    },
    "kernelspec": {
      "name": "python3",
      "display_name": "Python 3"
    },
    "language_info": {
      "name": "python"
    }
  },
  "cells": [
    {
      "cell_type": "code",
      "execution_count": null,
      "metadata": {
        "id": "OqFL8Sdgl8-d"
      },
      "outputs": [],
      "source": [
        "# Task 1.1\n",
        "# Generates the cards\n",
        "import random\n",
        "\n",
        "\n",
        "class Card():\n",
        "    def __init__(self, value, suit): # Constructor\n",
        "        self.value = value # private, str\n",
        "        self.suit = suit # private, str\n",
        "\n",
        "    def get_value(self): # Returns number\n",
        "        return self.value\n",
        "\n",
        "    def get_suit(self): # Returns suit\n",
        "        return self.suit\n",
        "\n",
        "def generate_cards():\n",
        "    suits = [\"clubs\",\"spades\",\"diamonds\",\"hearts\"] # shows suits\n",
        "    values = [\"2\",\"3\",\"4\",\"5\",\"6\",\"7\",\"8\",\"9\",\"10\",\"J\",\"Q\",\"K\",\"A\"] # shows values\n",
        "    cards = [Card(value, suit) for suit in suits for value in values] # make a card, each with a suit and a value\n",
        "    random.shuffle(cards) # shuffles cards\n",
        "    # distribute cards around\n",
        "    player_cards = [[cards[4*i+j] for i in range(13)] for j in range(4)]\n",
        "\n",
        "    return player_cards\n"
      ]
    },
    {
      "cell_type": "code",
      "source": [
        "# Task 1.2\n",
        "# Sorts the cards\n",
        "def sort_cards(hand):\n",
        "    rank = {\"hearts\": 1, \"diamonds\": 2, \"spades\": 3, \"clubs\": 4}\n",
        "    # bubble sort\n",
        "    n = len(hand)\n",
        "\n",
        "    for i in range(n):\n",
        "        swapped = False\n",
        "\n",
        "        for j in range(n-1-i):\n",
        "            value1 = hand[j].get_value()\n",
        "            value2 = hand[j+1].get_value()\n",
        "\n",
        "            for value in [value1, value2]:\n",
        "                converter = {\"J\": 11, \"Q\": 12, \"K\": 13, \"A\": 14}\n",
        "                if not value.isdigit():\n",
        "                    value = int(converter[value])\n",
        "                else:\n",
        "                    value = int(value)\n",
        "\n",
        "            if rank[hand[j].get_suit()] < rank[hand[j+1].get_suit()] or (rank[hand[j].get_suit()] == rank[hand[j+1].get_suit()] and value1 > value2):\n",
        "                hand[j], hand[j+1] = hand[j+1], hand[j]\n",
        "                swapped = True\n",
        "\n",
        "        if not swapped:\n",
        "            break"
      ],
      "metadata": {
        "id": "-vpdE4__nPM4"
      },
      "execution_count": null,
      "outputs": []
    },
    {
      "cell_type": "code",
      "source": [
        "# Task 1.3\n",
        "def validate_turn(starting_suit, hand):\n",
        "    restriction = False\n",
        "\n",
        "    if starting_suit != \"\":\n",
        "        for card in hand: # search each card to check if there is a card with the starting suit\n",
        "            if card.get_suit() == starting_suit:\n",
        "                restriction = True\n",
        "                break\n",
        "\n",
        "    index = input(\"Enter an index of the card you want to play, 0 for the left most and increasing by 1 for each card to the right: \")\n",
        "    if type(index) != int or index < 0 or index >= len(hand):\n",
        "        return -1 # invalid form of index or out of range\n",
        "    if restriction and hand[index].get_suit != starting_suit:\n",
        "        return -1 # incorrect suit\n",
        "    return index"
      ],
      "metadata": {
        "id": "GnQDyc7t7nje"
      },
      "execution_count": null,
      "outputs": []
    },
    {
      "cell_type": "code",
      "source": [
        "# Task 1.4\n",
        "def get_maximum(starting_suit, cards_played):\n",
        "    maximum_card = 1\n",
        "    maximum_value = cards_played[0].get_value()\n",
        "\n",
        "    for i in range(1, len(cards_played)):\n",
        "        card_value = cards_played[i].get_value()\n",
        "        card_suit = cards_played[i].get_suit()\n",
        "        if card_suit == starting_suit and card_value > maximum_value: # check if card is same suit and greater than original suit\n",
        "            maximum_value = card_value\n",
        "            maximum_card = (i+1)\n",
        "    return maximum_card # return player index with maximum value"
      ],
      "metadata": {
        "id": "zsSZXstGAURD"
      },
      "execution_count": null,
      "outputs": []
    },
    {
      "cell_type": "code",
      "source": [
        "# Task 1.5\n",
        "def game_over(player1, player2, player3, player4):\n",
        "    if player1 >= 100 or player2 >= 100 or player3 >= 100 or player4 >= 100:\n",
        "        return False\n",
        "    else:\n",
        "        return True"
      ],
      "metadata": {
        "id": "YumK8jJwDI_Z"
      },
      "execution_count": null,
      "outputs": []
    },
    {
      "cell_type": "code",
      "source": [
        "# Task 1.6\n",
        "# set penalty points for each player\n",
        "player_points = [0, 0, 0, 0]\n",
        "def play_round():\n",
        "    player_cards = generate_cards()\n",
        "\n",
        "    for player in player_cards:\n",
        "        sort_cards(player)\n",
        "\n",
        "    round_penalties = [0, 0, 0, 0]\n",
        "\n",
        "    for i in range(13):\n",
        "        starting_suit = \"\"\n",
        "        round_cards = []\n",
        "        penalty = 0\n",
        "\n",
        "        for j in range(4):\n",
        "            player_list = [[card.get_suit(), card.get_value()] for card in player_cards[j]]\n",
        "            print(player_list) # print player's list of cards\n",
        "\n",
        "            valid = False\n",
        "            while not valid:\n",
        "                index = validate_turn(starting_suit, player_cards[j])\n",
        "                if index != -1:\n",
        "                    valid = True\n",
        "\n",
        "            card = player_cards[j][index]\n",
        "\n",
        "            if j == 0:\n",
        "                starting_suit = card.get_suit()\n",
        "\n",
        "            round_cards.append(card)\n",
        "            player_cards[player-1].pop(index) # removes a card for each player\n",
        "\n",
        "        for card in round_cards:\n",
        "            if card.get_suit() == \"spades\" and card.get_value() == \"Q\": # queen of spades\n",
        "                penalty += 13\n",
        "\n",
        "            if card.get_suit() == \"hearts\":\n",
        "                penalty += 1\n",
        "\n",
        "        round_penalties[get_maximum(starting_suit, round_cards)-1] += penalty\n",
        "\n",
        "    if 26 in round_penalties: # shooting the moon scenario\n",
        "        for i in range(len(round_penalties)):\n",
        "            if round_penalties[i] == 26:\n",
        "                round_penalties[i] = 0\n",
        "            else:\n",
        "                round_penalties[i] = 26\n",
        "\n",
        "    return round_penalties\n",
        "\n",
        "game_over = False\n",
        "while not game_over:\n",
        "    result = play_round()\n",
        "    player_points = [result[x] + player_points[x] for x in range(4)]\n",
        "    if game_over():\n",
        "        break\n",
        "    else:\n",
        "        for i in range(4):\n",
        "            player_points[i] += result[i]\n"
      ],
      "metadata": {
        "id": "ZkbsjT6dEESu",
        "colab": {
          "base_uri": "https://localhost:8080/"
        },
        "outputId": "a8564e96-1231-4ac0-946e-73aa99a38c45"
      },
      "execution_count": null,
      "outputs": [
        {
          "output_type": "stream",
          "name": "stdout",
          "text": [
            "[['clubs', '5'], ['clubs', '7'], ['clubs', 'A'], ['clubs', 'J'], ['clubs', 'Q'], ['spades', '8'], ['spades', '9'], ['spades', 'A'], ['spades', 'K'], ['diamonds', '8'], ['diamonds', 'K'], ['hearts', '2'], ['hearts', '5']]\n"
          ]
        }
      ]
    }
  ]
}