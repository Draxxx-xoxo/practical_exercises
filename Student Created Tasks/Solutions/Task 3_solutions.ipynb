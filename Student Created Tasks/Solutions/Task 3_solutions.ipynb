{
 "cells": [
  {
   "cell_type": "code",
   "execution_count": 16,
   "id": "9f839cad",
   "metadata": {},
   "outputs": [],
   "source": [
    "import sqlite3\n",
    "\n",
    "conn = sqlite3.connect(\"results.db\")\n",
    "cursor = conn.cursor()\n",
    "\n",
    "# create table\n",
    "cursor.execute(\"\"\" \n",
    "    CREATE TABLE IF NOT EXISTS Results(\n",
    "        Name TEXT,\n",
    "        CG TEXT,\n",
    "        Subject TEXT,\n",
    "        Grade TEXT,\n",
    "        PRIMARY KEY(Name, Subject, Grade)\n",
    "    );\n",
    "\"\"\")\n",
    "\n",
    "\n",
    "# commit and close connection\n",
    "conn.commit()\n",
    "conn.close()"
   ]
  },
  {
   "cell_type": "code",
   "execution_count": 17,
   "id": "306f1b3d",
   "metadata": {},
   "outputs": [],
   "source": [
    "import sqlite3\n",
    "import csv\n",
    "\n",
    "# file closes after with block\n",
    "with open(\"results.txt\",\"r\") as file: \n",
    "    reader = csv.reader(file, delimiter=\"\\t\")\n",
    "    results = []\n",
    "    for row in reader:\n",
    "        results.append(row)\n",
    "\n",
    "conn = sqlite3.connect(\"results.db\")\n",
    "cursor = conn.cursor()\n",
    "\n",
    "for result in results: # insert into table\n",
    "    cursor.execute(\"\"\"\n",
    "        INSERT INTO Results(Name, CG, Subject, Grade)\n",
    "        VALUES (?, ?, ?, ?)\n",
    "    \"\"\", result)\n",
    "\n",
    "# commit and close connection\n",
    "conn.commit()\n",
    "conn.close()"
   ]
  },
  {
   "cell_type": "code",
   "execution_count": 18,
   "id": "5574560a",
   "metadata": {},
   "outputs": [
    {
     "name": "stdout",
     "output_type": "stream",
     "text": [
      "Alexander Curtis\n",
      "Brenda Reese\n",
      "Carl Sheppard\n",
      "Cassandra Wilson\n",
      "Christopher Mcdonald\n",
      "Christopher Ross\n",
      "Courtney Butler\n",
      "Dennis Miller\n",
      "James Curtis\n",
      "Jesse Smith\n",
      "Jessica Pratt\n",
      "Jody Santos\n",
      "Kaitlyn Price\n",
      "Kenneth Patel\n",
      "Kristina Fitzgerald DDS\n",
      "Laura Rollins\n",
      "Michael Sharp\n",
      "Samuel Frank\n",
      "Timothy Sanchez\n",
      "Tracey Perez\n",
      "Wendy Reyes\n"
     ]
    }
   ],
   "source": [
    "import sqlite3\n",
    "\n",
    "conn = sqlite3.connect(\"results.db\")\n",
    "cursor = conn.cursor()\n",
    "\n",
    "# filters students that meet requirements\n",
    "cursor.execute(\"\"\"\n",
    "    SELECT Name\n",
    "    FROM Results\n",
    "    WHERE CG = '25/03'\n",
    "    GROUP BY Name\n",
    "    HAVING \n",
    "        SUM(1 * (Subject != 'GP' AND Grade IN ('A', 'B', 'C', 'D', 'E'))) >= 2\n",
    "        AND \n",
    "        SUM(1 * (Subject = 'GP' AND Grade IN ('S', 'A', 'B', 'C', 'D', 'E'))) >= 1\n",
    "        AND \n",
    "        SUM(1 * (Subject != 'GP' AND Grade IN ('S', 'A', 'B', 'C', 'D', 'E'))) >= 3\n",
    "    ORDER BY Name;\n",
    "\"\"\")\n",
    "students = cursor.fetchall()\n",
    "\n",
    "conn.close()\n",
    "\n",
    "for student in students:\n",
    "    print(student[0])"
   ]
  },
  {
   "cell_type": "code",
   "execution_count": null,
   "id": "a8da7f54",
   "metadata": {},
   "outputs": [],
   "source": []
  }
 ],
 "metadata": {
  "kernelspec": {
   "display_name": "Python 3 (ipykernel)",
   "language": "python",
   "name": "python3"
  },
  "language_info": {
   "codemirror_mode": {
    "name": "ipython",
    "version": 3
   },
   "file_extension": ".py",
   "mimetype": "text/x-python",
   "name": "python",
   "nbconvert_exporter": "python",
   "pygments_lexer": "ipython3",
   "version": "3.7.7"
  }
 },
 "nbformat": 4,
 "nbformat_minor": 5
}
